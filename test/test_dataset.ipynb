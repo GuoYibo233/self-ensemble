{
 "cells": [
  {
   "cell_type": "code",
   "execution_count": 1,
   "id": "109629c5",
   "metadata": {},
   "outputs": [],
   "source": [
    "from datasets import load_dataset, load_from_disk"
   ]
  },
  {
   "cell_type": "code",
   "execution_count": 1,
   "id": "4e7a708a",
   "metadata": {},
   "outputs": [
    {
     "name": "stdout",
     "output_type": "stream",
     "text": [
      "Dataset already exists at /home/xzhao/workspace/self-ensemble/datasets/myriadlama/dataset. Loading from disk.\n"
     ]
    }
   ],
   "source": [
    "from dataset import MyriadLamaDataset, WebQADataset\n",
    "\n",
    "\n",
    "dataset = MyriadLamaDataset()\n",
    "# dataset = WebQADataset(model_name=\"llama3.2_1b\")"
   ]
  },
  {
   "cell_type": "code",
   "execution_count": 7,
   "id": "13234de5",
   "metadata": {},
   "outputs": [
    {
     "name": "stdout",
     "output_type": "stream",
     "text": [
      "/home/xzhao/workspace/self-ensemble/datasets/myriadlama/dataset /home/xzhao/workspace/self-ensemble/datasets/myriadlama\n"
     ]
    }
   ],
   "source": [
    "print(dataset.dataset_path, dataset.dataset_root)"
   ]
  },
  {
   "cell_type": "code",
   "execution_count": 2,
   "id": "24ca3b04",
   "metadata": {},
   "outputs": [
    {
     "name": "stdout",
     "output_type": "stream",
     "text": [
      "Q: Libya and [MASK] are neighboring countries.\n",
      "A: Chad\n",
      "\n",
      "Q: [MASK] is a member of lauric acid.\n",
      "A: carbon\n",
      "\n",
      "Q: Convent of Las Descalzas Reales is located in [MASK].\n",
      "A: Madrid\n",
      "\n",
      "Q: [MASK] consists of flue.\n",
      "A: chimney\n",
      "\n",
      "Q: In which language is Google Map Maker written? [MASK].\n",
      "A: Bangla\n"
     ]
    }
   ],
   "source": [
    "few_shot = dataset.get_few_shot_examples()\n",
    "print(few_shot)"
   ]
  },
  {
   "cell_type": "code",
   "execution_count": 3,
   "id": "e68c07de",
   "metadata": {},
   "outputs": [
    {
     "name": "stdout",
     "output_type": "stream",
     "text": [
      "Predict the [MASK] in the sentence in one word.\n",
      "\n",
      "Q: Libya and [MASK] are neighboring countries.\n",
      "A: Chad\n",
      "\n",
      "Q: [MASK] is a member of lauric acid.\n",
      "A: carbon\n",
      "\n",
      "Q: Convent of Las Descalzas Reales is located in [MASK].\n",
      "A: Madrid\n",
      "\n",
      "Q: [MASK] consists of flue.\n",
      "A: chimney\n",
      "\n",
      "Q: In which language is Google Map Maker written? [MASK].\n",
      "A: Bangla\n",
      "\n",
      "Q: What is the capital of France?\n",
      "A:\n"
     ]
    }
   ],
   "source": [
    "print(dataset.construct_prompts(few_shot, [\"What is the capital of France?\"])[0])\n"
   ]
  },
  {
   "cell_type": "code",
   "execution_count": 4,
   "id": "bb569619",
   "metadata": {},
   "outputs": [],
   "source": [
    "for uuid, answers, paraphrases in dataset.get_dataloader():\n",
    "    break"
   ]
  },
  {
   "cell_type": "code",
   "execution_count": 5,
   "id": "6e2d7601",
   "metadata": {},
   "outputs": [
    {
     "name": "stdout",
     "output_type": "stream",
     "text": [
      "['5d09424876ba7f4-15e8746c51e1d4c', 'fd915def246a0be-1df91599c979dd7', '846cc35c6fe6013-279430e3ef1ffac', '2be6c939e56239c-5db887161a9ced7', '703b74b9c96d4e5-fd2c6d248ec9c51', 'e772dad2b624394-3fd250adb8ee9bd', '782f4ee9a1f6d31-c3a4e0241be1035', 'e772dad2b624394-a116a63f506f4a0']\n",
      "[['NBC', 'National Broadcasting Company'], ['physics', 'physical', 'physic', 'general physics', 'physical science'], ['Norwegian', 'no', 'Norwegian language'], ['Florence', 'Firenze', 'Florence, Italy', 'Florence, Tuscany', 'Florencia', 'Florentia', 'Florenz', 'Firenca', 'Florencie', 'Fiuränza', 'Florentzia', 'Firense', 'Firenz', 'Firenzi', 'Florence Municipality'], ['Antarctica', 'Antarctic Selection'], ['Turin', 'Torino', 'Turin, Italy'], ['bishop'], ['Boston', 'Boston, Lincolnshire', 'Boston, England']]\n"
     ]
    },
    {
     "data": {
      "text/plain": [
       "[('This Is Your Life premiered on the network [MASK].',\n",
       "  'Johann Heinrich Lambert has work experience in the field of [MASK].',\n",
       "  'In which language is Vinduet written? [MASK].',\n",
       "  'Where did Francesco Pesellino die? [MASK].',\n",
       "  'Queen Maud Land is a part of the continent [MASK].',\n",
       "  'Where was Guglielmo Gabetto born? [MASK].',\n",
       "  'Charles John Seghers served as [MASK].',\n",
       "  'Where was Martin Middlebrook born? [MASK].'),\n",
       " ('[MASK] is the first air channel of This Is Your Life.',\n",
       "  'Johann Heinrich Lambert works in the field of [MASK].',\n",
       "  'The language [MASK] was used for writing Vinduet.',\n",
       "  'Francesco Pesellino spent the last years of life in [MASK].',\n",
       "  'The location of Queen Maud Land on the Earth is the [MASK] continent.',\n",
       "  'Guglielmo Gabetto was born in [MASK].',\n",
       "  'Charles John Seghers holds the political title of [MASK].',\n",
       "  'Martin Middlebrook was born in [MASK].'),\n",
       " ('Which service originally aired This Is Your Life? [MASK].',\n",
       "  'Which field does Johann Heinrich Lambert work in? [MASK].',\n",
       "  'Vinduet is in language [MASK].',\n",
       "  '[MASK] is the last place where Francesco Pesellino lived until death.',\n",
       "  'Queen Maud Land is located on the continent of [MASK].',\n",
       "  'Guglielmo Gabetto saw the light of the world in [MASK].',\n",
       "  'Charles John Seghers was sworn in as [MASK].',\n",
       "  'Martin Middlebrook saw the light of the world in [MASK].'),\n",
       " ('This Is Your Life was originally aired on [MASK].',\n",
       "  'Johann Heinrich Lambert is influential in the domain of [MASK].',\n",
       "  'Vinduet is a work in the [MASK] language.',\n",
       "  'Francesco Pesellino died in [MASK].',\n",
       "  'On what continent is Queen Maud Land located? [MASK].',\n",
       "  'Guglielmo Gabetto started their life in [MASK].',\n",
       "  'What position does Charles John Seghers hold? [MASK].',\n",
       "  'Martin Middlebrook started their life in [MASK].'),\n",
       " ('This Is Your Life was initially launched on [MASK].',\n",
       "  'Johann Heinrich Lambert made significant contributions in the field of [MASK].',\n",
       "  'Vinduet was written in language of [MASK].',\n",
       "  'Francesco Pesellino resided in [MASK] until death.',\n",
       "  '[MASK] is the continent where Queen Maud Land is located.',\n",
       "  'The birth of Guglielmo Gabetto occurred in [MASK].',\n",
       "  'Charles John Seghers has the position of [MASK].',\n",
       "  'The birth of Martin Middlebrook occurred in [MASK].')]"
      ]
     },
     "execution_count": 5,
     "metadata": {},
     "output_type": "execute_result"
    }
   ],
   "source": [
    "print(uuid)\n",
    "print(answers)\n",
    "list(paraphrases)"
   ]
  },
  {
   "cell_type": "code",
   "execution_count": 6,
   "id": "b49a75ac",
   "metadata": {},
   "outputs": [
    {
     "data": {
      "text/plain": [
       "[['NBC', 'National Broadcasting Company'],\n",
       " ['physics', 'physical', 'physic', 'general physics', 'physical science'],\n",
       " ['Norwegian', 'no', 'Norwegian language'],\n",
       " ['Florence',\n",
       "  'Firenze',\n",
       "  'Florence, Italy',\n",
       "  'Florence, Tuscany',\n",
       "  'Florencia',\n",
       "  'Florentia',\n",
       "  'Florenz',\n",
       "  'Firenca',\n",
       "  'Florencie',\n",
       "  'Fiuränza',\n",
       "  'Florentzia',\n",
       "  'Firense',\n",
       "  'Firenz',\n",
       "  'Firenzi',\n",
       "  'Florence Municipality'],\n",
       " ['Antarctica', 'Antarctic Selection'],\n",
       " ['Turin', 'Torino', 'Turin, Italy'],\n",
       " ['bishop'],\n",
       " ['Boston', 'Boston, Lincolnshire', 'Boston, England']]"
      ]
     },
     "execution_count": 6,
     "metadata": {},
     "output_type": "execute_result"
    }
   ],
   "source": [
    "answers"
   ]
  },
  {
   "cell_type": "code",
   "execution_count": null,
   "id": "c74c21ca",
   "metadata": {},
   "outputs": [],
   "source": []
  }
 ],
 "metadata": {
  "kernelspec": {
   "display_name": "eval",
   "language": "python",
   "name": "python3"
  },
  "language_info": {
   "codemirror_mode": {
    "name": "ipython",
    "version": 3
   },
   "file_extension": ".py",
   "mimetype": "text/x-python",
   "name": "python",
   "nbconvert_exporter": "python",
   "pygments_lexer": "ipython3",
   "version": "3.10.12"
  }
 },
 "nbformat": 4,
 "nbformat_minor": 5
}
