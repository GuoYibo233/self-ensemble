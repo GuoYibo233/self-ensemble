{
 "cells": [
  {
   "cell_type": "code",
   "execution_count": 41,
   "id": "532a9786",
   "metadata": {},
   "outputs": [],
   "source": [
    "import os\n",
    "import pandas as pd\n",
    "root = \"/home/xzhao/workspace/self-ensemble/datasets/myriadlama/llama3.1_8b_it\"\n",
    "df = pd.read_feather(os.path.join(root, \"confidence.feather\"))"
   ]
  },
  {
   "cell_type": "code",
   "execution_count": 42,
   "id": "83d27405",
   "metadata": {},
   "outputs": [],
   "source": [
    "df[\"sample_lemmas\"] = df[\"sample_lemmas\"].apply(lambda xs: [list(x) for x in xs])\n",
    "df[\"answer_lemmas\"] = df[\"answer_lemmas\"].apply(lambda xs: [list(x) for x in xs])"
   ]
  },
  {
   "cell_type": "code",
   "execution_count": 43,
   "id": "ceeb488e",
   "metadata": {},
   "outputs": [
    {
     "data": {
      "application/vnd.microsoft.datawrangler.viewer.v0+json": {
       "columns": [
        {
         "name": "index",
         "rawType": "int64",
         "type": "integer"
        },
        {
         "name": "uuid",
         "rawType": "object",
         "type": "string"
        },
        {
         "name": "paraphrase",
         "rawType": "object",
         "type": "string"
        },
        {
         "name": "prompt",
         "rawType": "object",
         "type": "string"
        },
        {
         "name": "answers",
         "rawType": "object",
         "type": "unknown"
        },
        {
         "name": "greedy_predict",
         "rawType": "object",
         "type": "string"
        },
        {
         "name": "sample_predicts",
         "rawType": "object",
         "type": "unknown"
        },
        {
         "name": "confidence",
         "rawType": "float64",
         "type": "float"
        },
        {
         "name": "greedy_lemma",
         "rawType": "object",
         "type": "unknown"
        },
        {
         "name": "sample_lemmas",
         "rawType": "object",
         "type": "unknown"
        },
        {
         "name": "answer_lemmas",
         "rawType": "object",
         "type": "unknown"
        }
       ],
       "ref": "3095d4ee-8be3-4518-933b-e22721546e05",
       "rows": [
        [
         "1",
         "fd915def246a0be-1df91599c979dd7",
         "Johann Heinrich Lambert has work experience in the field of [MASK].",
         "Predict the [MASK] in the sentence in one word.\n\nQ: Libya and [MASK] are neighboring countries.\nA: Chad\n\nQ: [MASK] is a member of lauric acid.\nA: carbon\n\nQ: Convent of Las Descalzas Reales is located in [MASK].\nA: Madrid\n\nQ: [MASK] consists of flue.\nA: chimney\n\nQ: In which language is Google Map Maker written? [MASK].\nA: Bangla\n\nQ: Johann Heinrich Lambert has work experience in the field of [MASK].\nA:",
         "['physics' 'physical' 'physic' 'general physics' 'physical science']",
         "mathematics",
         "['mathematics' 'mathematics' 'mathematics' 'mathematics' 'mathematics'\n 'mathematics' 'mathematics' 'mathematics' 'cartography' 'optics'\n 'mathematics' 'mathematics' 'mathematics' 'mathematics' 'mathematics'\n 'mathematics' 'mathematics' 'cartography' 'geometry' 'mathematics'\n 'mathematics' 'mathematics' 'mathematics' 'mathematics' 'mathematics'\n 'mathematics' 'mathematics' 'mathematics' 'cartography' 'cartography'\n 'mathematics' 'mathematics' 'mathematics' 'mathematics' 'mathematics'\n 'mathematics' 'optics' 'geometry' 'mathematics' 'mathematics' 'optics'\n 'cartography' 'geometry' 'mathematics' 'optics' 'geometry' 'mathematics'\n 'mathematics' 'mathematics' 'mathematics' 'geometry' 'mathematics'\n 'cartography' 'mathematics' 'mathematics' 'mathematics' 'mathematics'\n 'mathematics' 'mathematics' 'mathematics' 'cartography' 'cartography'\n 'mathematics' 'mathematics' 'mathematics' 'mathematics' 'cartography'\n 'mathematics' 'mathematics' 'mathematics' 'mathematics' 'mathematics'\n 'mathematics' 'mathematics' 'mathematics' 'geometry' 'geometry'\n 'mathematics' 'optics' 'mathematics' 'cartography' 'mathematics'\n 'geometry' 'mathematics' 'mathematics' 'cartography' 'cartography'\n 'cartography' 'mathematics' 'mathematics' 'mathematics' 'mathematics'\n 'geometry' 'mathematics' 'optics' 'mathematics' 'cartography'\n 'mathematics' 'mathematics' 'mathematics']",
         "0.71",
         "['mathematic']",
         "[['mathematic'], ['mathematic'], ['mathematic'], ['mathematic'], ['mathematic'], ['mathematic'], ['mathematic'], ['mathematic'], ['cartography'], ['optic'], ['mathematic'], ['mathematic'], ['mathematic'], ['mathematic'], ['mathematic'], ['mathematic'], ['mathematic'], ['cartography'], ['geometry'], ['mathematic'], ['mathematic'], ['mathematic'], ['mathematic'], ['mathematic'], ['mathematic'], ['mathematic'], ['mathematic'], ['mathematic'], ['cartography'], ['cartography'], ['mathematic'], ['mathematic'], ['mathematic'], ['mathematic'], ['mathematic'], ['mathematic'], ['optic'], ['geometry'], ['mathematic'], ['mathematic'], ['optic'], ['cartography'], ['geometry'], ['mathematic'], ['optic'], ['geometry'], ['mathematic'], ['mathematic'], ['mathematic'], ['mathematic'], ['geometry'], ['mathematic'], ['cartography'], ['mathematic'], ['mathematic'], ['mathematic'], ['mathematic'], ['mathematic'], ['mathematic'], ['mathematic'], ['cartography'], ['cartography'], ['mathematic'], ['mathematic'], ['mathematic'], ['mathematic'], ['cartography'], ['mathematic'], ['mathematic'], ['mathematic'], ['mathematic'], ['mathematic'], ['mathematic'], ['mathematic'], ['mathematic'], ['geometry'], ['geometry'], ['mathematic'], ['optic'], ['mathematic'], ['cartography'], ['mathematic'], ['geometry'], ['mathematic'], ['mathematic'], ['cartography'], ['cartography'], ['cartography'], ['mathematic'], ['mathematic'], ['mathematic'], ['mathematic'], ['geometry'], ['mathematic'], ['optic'], ['mathematic'], ['cartography'], ['mathematic'], ['mathematic'], ['mathematic']]",
         "[['physics'], ['physical'], ['physic'], ['general', 'physics'], ['physical', 'science']]"
        ],
        [
         "9",
         "fd915def246a0be-1df91599c979dd7",
         "Johann Heinrich Lambert works in the field of [MASK].",
         "Predict the [MASK] in the sentence in one word.\n\nQ: Libya and [MASK] are neighboring countries.\nA: Chad\n\nQ: [MASK] is a member of lauric acid.\nA: carbon\n\nQ: Convent of Las Descalzas Reales is located in [MASK].\nA: Madrid\n\nQ: [MASK] consists of flue.\nA: chimney\n\nQ: In which language is Google Map Maker written? [MASK].\nA: Bangla\n\nQ: Johann Heinrich Lambert works in the field of [MASK].\nA:",
         "['physics' 'physical' 'physic' 'general physics' 'physical science']",
         "mathematics",
         "['mathematics' 'maths' 'geometry' 'mathematics' 'mathematics'\n 'mathematics' 'geometry' 'mathematics' 'trigonometry' 'mathematics'\n 'mathematics' 'calculus' 'mathematics' 'mathematics' 'painting'\n 'Geometrischer.' 'mathematics' 'geometry' 'geometry' 'mathematics'\n 'Mathematics' 'mathematics' 'mathematics' 'trigonometry' 'calculus'\n 'physics' 'mathematics' 'mathematics' 'cartography' 'geometry' 'calculus'\n 'geometry' 'mathematics' 'geometry' 'mathematics' 'mathematics' 'maths'\n 'Mathematics' 'mathematics' 'calculus' 'physics' 'cartography' 'geometry'\n 'mathematics' 'geometry' 'geometry' 'mathematics' 'mathematics'\n 'mathematics' 'mathematics' 'geometry' 'mathematics' 'mathematics'\n 'mathematics' 'agriculture' 'mathematics' 'geometry' 'Mathematics'\n 'geometry' 'mathematics' 'topology' 'cartography' 'mathematics'\n 'mathematics' 'Philosophy' 'geometry' 'calculus' 'mathematics'\n 'mathematics' 'mathematics' 'Mathematics' 'geometry' 'mathematics'\n 'mathematics' 'Mathematics' 'geometry' 'geometry' 'mathematics'\n 'Mathematics' 'algebra' 'cartography' 'geometry' 'geometry' 'mathematics'\n 'mathematics' 'geometry' 'cartography' 'mathematics' 'Egyptian algebra'\n 'math' 'mathematics' 'analytics' 'geometry.' 'topology' 'mathematics'\n 'mathematics' 'cartography' 'mathematics' 'mathematics' 'mathematics']",
         "0.52",
         "['mathematic']",
         "[['mathematic'], ['maths'], ['geometry'], ['mathematic'], ['mathematic'], ['mathematic'], ['geometry'], ['mathematic'], ['trigonometry'], ['mathematic'], ['mathematic'], ['calculus'], ['mathematic'], ['mathematic'], ['paint'], ['geometrischer', '.'], ['mathematic'], ['geometry'], ['geometry'], ['mathematic'], ['mathematic'], ['mathematic'], ['mathematic'], ['trigonometry'], ['calculus'], ['physics'], ['mathematic'], ['mathematic'], ['cartography'], ['geometry'], ['calculus'], ['geometry'], ['mathematic'], ['geometry'], ['mathematic'], ['mathematic'], ['maths'], ['mathematic'], ['mathematic'], ['calculus'], ['physics'], ['cartography'], ['geometry'], ['mathematic'], ['geometry'], ['geometry'], ['mathematic'], ['mathematic'], ['mathematic'], ['mathematic'], ['geometry'], ['mathematic'], ['mathematic'], ['mathematic'], ['agriculture'], ['mathematic'], ['geometry'], ['mathematic'], ['geometry'], ['mathematic'], ['topology'], ['cartography'], ['mathematic'], ['mathematic'], ['philosophy'], ['geometry'], ['calculus'], ['mathematic'], ['mathematic'], ['mathematic'], ['mathematic'], ['geometry'], ['mathematic'], ['mathematic'], ['mathematic'], ['geometry'], ['geometry'], ['mathematic'], ['mathematic'], ['algebra'], ['cartography'], ['geometry'], ['geometry'], ['mathematic'], ['mathematic'], ['geometry'], ['cartography'], ['mathematic'], ['egyptian', 'algebra'], ['math'], ['mathematic'], ['analytic'], ['geometry', '.'], ['topology'], ['mathematic'], ['mathematic'], ['cartography'], ['mathematic'], ['mathematic'], ['mathematic']]",
         "[['physics'], ['physical'], ['physic'], ['general', 'physics'], ['physical', 'science']]"
        ],
        [
         "17",
         "fd915def246a0be-1df91599c979dd7",
         "Which field does Johann Heinrich Lambert work in? [MASK].",
         "Predict the [MASK] in the sentence in one word.\n\nQ: Libya and [MASK] are neighboring countries.\nA: Chad\n\nQ: [MASK] is a member of lauric acid.\nA: carbon\n\nQ: Convent of Las Descalzas Reales is located in [MASK].\nA: Madrid\n\nQ: [MASK] consists of flue.\nA: chimney\n\nQ: In which language is Google Map Maker written? [MASK].\nA: Bangla\n\nQ: Which field does Johann Heinrich Lambert work in? [MASK].\nA:",
         "['physics' 'physical' 'physic' 'general physics' 'physical science']",
         "mathematics",
         "['mathematics' 'maths' 'Mathematics' 'mathematics' 'Mathematics'\n 'mathematics' 'mathematics' 'mathematics' 'Cartesian coordinator'\n 'Mathematics' 'mathematics' 'calculus' 'mathematics' 'Geometry'\n 'philology' 'Geometrischer.' 'mathematics' 'Mathematics' 'geometry'\n 'mathematics' 'Mathematics' 'mathematics' 'mathematics' 'mathematics'\n 'Alessandro' 'Geometrie' 'mathematics' 'mathematics' 'cartography'\n 'Mathematics' 'Mathematics' 'mathematics' 'mathematics' 'mathematics'\n 'mathematics' 'mathematics' 'maths' 'Mathematics' 'mathematics'\n 'Mathematician' 'physics' 'cartography' 'geometry' 'math' 'mathematic'\n 'geometry' 'mathematics' 'mathematics' 'mathematics' 'mathematics'\n 'geometry' 'mathematics' 'Mathematics' 'Geography' 'mathematics'\n 'mathematics' 'academia' 'Mathematics' 'mathematics' 'Mathematics'\n 'Cartography' 'cartography' 'mathematics' 'mathematics' 'Philosophy'\n 'Mathematics' 'Mathematics' 'mathematics' 'mathematics' 'mathematics'\n 'Mathematics' 'mathematics' 'mathematics' 'mathematics' 'Mathematics'\n 'geometry' 'mathematic' 'mathematics' 'Mathematics' 'maps' 'cartography'\n 'geometry' 'geometry' 'mathematics' 'mathematics' 'mathematician'\n 'cartography' 'Geographic'\n \"Egyptian hieroglyphics was a discipline []Aligned leftshirt[] Field'.warColorolianCA area\"\n 'math' 'mathematics' 'analytics' 'geometry.' 'mathematics' 'mathematics'\n 'mathematics' 'cartography' 'Geographer' 'mathematics' 'mathematics']",
         "0.63",
         "['mathematic']",
         "[['mathematic'], ['maths'], ['mathematic'], ['mathematic'], ['mathematic'], ['mathematic'], ['mathematic'], ['mathematic'], ['cartesian', 'coordinator'], ['mathematic'], ['mathematic'], ['calculus'], ['mathematic'], ['geometry'], ['philology'], ['geometrischer', '.'], ['mathematic'], ['mathematic'], ['geometry'], ['mathematic'], ['mathematic'], ['mathematic'], ['mathematic'], ['mathematic'], ['alessandro'], ['geometrie'], ['mathematic'], ['mathematic'], ['cartography'], ['mathematic'], ['mathematic'], ['mathematic'], ['mathematic'], ['mathematic'], ['mathematic'], ['mathematic'], ['maths'], ['mathematic'], ['mathematic'], ['mathematician'], ['physics'], ['cartography'], ['geometry'], ['math'], ['mathematic'], ['geometry'], ['mathematic'], ['mathematic'], ['mathematic'], ['mathematic'], ['geometry'], ['mathematic'], ['mathematic'], ['geography'], ['mathematic'], ['mathematic'], ['academia'], ['mathematic'], ['mathematic'], ['mathematic'], ['cartography'], ['cartography'], ['mathematic'], ['mathematic'], ['philosophy'], ['mathematic'], ['mathematic'], ['mathematic'], ['mathematic'], ['mathematic'], ['mathematic'], ['mathematic'], ['mathematic'], ['mathematic'], ['mathematic'], ['geometry'], ['mathematic'], ['mathematic'], ['mathematic'], ['map'], ['cartography'], ['geometry'], ['geometry'], ['mathematic'], ['mathematic'], ['mathematician'], ['cartography'], ['geographic'], ['egyptian', 'hieroglyphic', 'be', 'a', 'discipline', '[', ']', 'align', 'leftshirt', '[', ']', \"field'.warcolorolianca\", 'area'], ['math'], ['mathematic'], ['analytic'], ['geometry', '.'], ['mathematic'], ['mathematic'], ['mathematic'], ['cartography'], ['geographer'], ['mathematic'], ['mathematic']]",
         "[['physics'], ['physical'], ['physic'], ['general', 'physics'], ['physical', 'science']]"
        ],
        [
         "25",
         "fd915def246a0be-1df91599c979dd7",
         "Johann Heinrich Lambert is influential in the domain of [MASK].",
         "Predict the [MASK] in the sentence in one word.\n\nQ: Libya and [MASK] are neighboring countries.\nA: Chad\n\nQ: [MASK] is a member of lauric acid.\nA: carbon\n\nQ: Convent of Las Descalzas Reales is located in [MASK].\nA: Madrid\n\nQ: [MASK] consists of flue.\nA: chimney\n\nQ: In which language is Google Map Maker written? [MASK].\nA: Bangla\n\nQ: Johann Heinrich Lambert is influential in the domain of [MASK].\nA:",
         "['physics' 'physical' 'physic' 'general physics' 'physical science']",
         "geometry",
         "['mathematics' 'maths' 'geometry' 'geometry' 'analysis' 'calculus'\n 'geometry' 'mathematics' 'trigonometry' 'optics' 'mathematics' 'calculus'\n 'geometry' 'Geometry' 'painting' 'Geometrischer.' 'mathematics'\n 'geometry' 'geometry' 'mathematics' 'geometry' 'vision' 'geometry'\n 'trigonometry' 'calculus' 'geometry' 'mathematics' 'calculus'\n 'cartography' 'geometry' 'calculus' 'Calculus' 'vector calculus'\n 'geometry' 'algebra' 'mathematics' 'imaginaryParts' 'Mathematics'\n 'mathematics' 'calculus' 'physics' 'cartography' 'geometry' 'philosophy'\n 'geometry' 'geometry' 'postage' 'mathematics' 'mathematics' 'India'\n 'geometry' 'mathematics' 'cartography' 'cartography' 'geometry'\n 'trigonometry' 'geometry' 'Mathematics' 'geometry' 'geometry' 'topology'\n 'cartography' 'calculus' 'geometry' 'Philosophy' 'non-Euclidean geometry'\n 'calculus' 'calculus' 'art' 'mathematics' 'Calculus' 'geometry'\n 'probability theory' 'geometry' 'Mathematics' 'geometry' 'Einstein'\n 'geometry' 'calculus' 'maps' 'cartography' 'geometry' 'geometry'\n 'mathematics' 'pi' 'Europe' 'cartography' 'cartography'\n 'Egyptian algebra' 'math' 'mathematics' 'analytics' 'geometry.'\n 'topology' 'optics' 'mathematics' 'cartography' 'geometry' 'mathematics'\n 'mathematics']",
         "0.3",
         "['geometry']",
         "[['mathematic'], ['maths'], ['geometry'], ['geometry'], ['analysis'], ['calculus'], ['geometry'], ['mathematic'], ['trigonometry'], ['optic'], ['mathematic'], ['calculus'], ['geometry'], ['geometry'], ['paint'], ['geometrischer', '.'], ['mathematic'], ['geometry'], ['geometry'], ['mathematic'], ['geometry'], ['vision'], ['geometry'], ['trigonometry'], ['calculus'], ['geometry'], ['mathematic'], ['calculus'], ['cartography'], ['geometry'], ['calculus'], ['calculus'], ['vector', 'calculus'], ['geometry'], ['algebra'], ['mathematic'], ['imaginarypart'], ['mathematic'], ['mathematic'], ['calculus'], ['physics'], ['cartography'], ['geometry'], ['philosophy'], ['geometry'], ['geometry'], ['postage'], ['mathematic'], ['mathematic'], ['india'], ['geometry'], ['mathematic'], ['cartography'], ['cartography'], ['geometry'], ['trigonometry'], ['geometry'], ['mathematic'], ['geometry'], ['geometry'], ['topology'], ['cartography'], ['calculus'], ['geometry'], ['philosophy'], ['non', '-', 'euclidean', 'geometry'], ['calculus'], ['calculus'], ['art'], ['mathematic'], ['calculus'], ['geometry'], ['probability', 'theory'], ['geometry'], ['mathematic'], ['geometry'], ['einstein'], ['geometry'], ['calculus'], ['map'], ['cartography'], ['geometry'], ['geometry'], ['mathematic'], ['pi'], ['europe'], ['cartography'], ['cartography'], ['egyptian', 'algebra'], ['math'], ['mathematic'], ['analytic'], ['geometry', '.'], ['topology'], ['optic'], ['mathematic'], ['cartography'], ['geometry'], ['mathematic'], ['mathematic']]",
         "[['physics'], ['physical'], ['physic'], ['general', 'physics'], ['physical', 'science']]"
        ],
        [
         "33",
         "fd915def246a0be-1df91599c979dd7",
         "Johann Heinrich Lambert made significant contributions in the field of [MASK].",
         "Predict the [MASK] in the sentence in one word.\n\nQ: Libya and [MASK] are neighboring countries.\nA: Chad\n\nQ: [MASK] is a member of lauric acid.\nA: carbon\n\nQ: Convent of Las Descalzas Reales is located in [MASK].\nA: Madrid\n\nQ: [MASK] consists of flue.\nA: chimney\n\nQ: In which language is Google Map Maker written? [MASK].\nA: Bangla\n\nQ: Johann Heinrich Lambert made significant contributions in the field of [MASK].\nA:",
         "['physics' 'physical' 'physic' 'general physics' 'physical science']",
         "geometry",
         "['mathematics' 'maths' 'geometry' 'geometry' 'geometry' 'calculus'\n 'trigonometry' 'mathematics' 'trigonometry' 'optics' 'mathematics'\n 'calculus' 'geometry' 'geometry' 'geometry' 'Geometrischer.'\n 'mathematics' 'geometry' 'geometry' 'mathematics' 'geometry' 'vision'\n 'geometry' 'trigonometry' 'calculus' 'hydraulics' 'mathematics'\n 'calculus' 'cartography' 'geometry' 'calculus' 'geometry' 'mathematics'\n 'geometry' 'algebra' 'mathematics' 'geometry' 'Mathematics'\n 'trigonometry' 'calculus' 'physics' 'cartography' 'geometry'\n 'mathematics' 'geometry' 'geometry' 'mathematics' 'mathematics'\n 'mathematics' 'mathematics' 'geometry' 'mathematics' 'cartography'\n 'geometry' 'geometry' 'trigonometry' 'geometry' 'Mathematics' 'geometry'\n 'geometry' 'topology' 'cartography' 'calculus' 'geometry' 'topology'\n 'geometry' 'calculus' 'mathematics' 'mathematics' 'mathematics'\n 'Calculus' 'geometry' 'optics' 'geometry' 'Mathematics' 'geometry'\n 'Einstein' 'geometry' 'optics' 'algebra' 'cartography' 'geometry'\n 'geometry' 'Bessel' 'pi' 'calculus' 'cartography' 'cartography'\n 'Egyptian algebra' 'math' 'geometry' 'analytics' 'geometry.' 'topology'\n 'optics' 'mathematics' 'cartography' 'geometry' 'mathematics'\n 'mathematics']",
         "0.34",
         "['geometry']",
         "[['mathematic'], ['maths'], ['geometry'], ['geometry'], ['geometry'], ['calculus'], ['trigonometry'], ['mathematic'], ['trigonometry'], ['optic'], ['mathematic'], ['calculus'], ['geometry'], ['geometry'], ['geometry'], ['geometrischer', '.'], ['mathematic'], ['geometry'], ['geometry'], ['mathematic'], ['geometry'], ['vision'], ['geometry'], ['trigonometry'], ['calculus'], ['hydraulic'], ['mathematic'], ['calculus'], ['cartography'], ['geometry'], ['calculus'], ['geometry'], ['mathematic'], ['geometry'], ['algebra'], ['mathematic'], ['geometry'], ['mathematic'], ['trigonometry'], ['calculus'], ['physics'], ['cartography'], ['geometry'], ['mathematic'], ['geometry'], ['geometry'], ['mathematic'], ['mathematic'], ['mathematic'], ['mathematic'], ['geometry'], ['mathematic'], ['cartography'], ['geometry'], ['geometry'], ['trigonometry'], ['geometry'], ['mathematic'], ['geometry'], ['geometry'], ['topology'], ['cartography'], ['calculus'], ['geometry'], ['topology'], ['geometry'], ['calculus'], ['mathematic'], ['mathematic'], ['mathematic'], ['calculus'], ['geometry'], ['optic'], ['geometry'], ['mathematic'], ['geometry'], ['einstein'], ['geometry'], ['optic'], ['algebra'], ['cartography'], ['geometry'], ['geometry'], ['bessel'], ['pi'], ['calculus'], ['cartography'], ['cartography'], ['egyptian', 'algebra'], ['math'], ['geometry'], ['analytic'], ['geometry', '.'], ['topology'], ['optic'], ['mathematic'], ['cartography'], ['geometry'], ['mathematic'], ['mathematic']]",
         "[['physics'], ['physical'], ['physic'], ['general', 'physics'], ['physical', 'science']]"
        ]
       ],
       "shape": {
        "columns": 10,
        "rows": 5
       }
      },
      "text/html": [
       "<div>\n",
       "<style scoped>\n",
       "    .dataframe tbody tr th:only-of-type {\n",
       "        vertical-align: middle;\n",
       "    }\n",
       "\n",
       "    .dataframe tbody tr th {\n",
       "        vertical-align: top;\n",
       "    }\n",
       "\n",
       "    .dataframe thead th {\n",
       "        text-align: right;\n",
       "    }\n",
       "</style>\n",
       "<table border=\"1\" class=\"dataframe\">\n",
       "  <thead>\n",
       "    <tr style=\"text-align: right;\">\n",
       "      <th></th>\n",
       "      <th>uuid</th>\n",
       "      <th>paraphrase</th>\n",
       "      <th>prompt</th>\n",
       "      <th>answers</th>\n",
       "      <th>greedy_predict</th>\n",
       "      <th>sample_predicts</th>\n",
       "      <th>confidence</th>\n",
       "      <th>greedy_lemma</th>\n",
       "      <th>sample_lemmas</th>\n",
       "      <th>answer_lemmas</th>\n",
       "    </tr>\n",
       "  </thead>\n",
       "  <tbody>\n",
       "    <tr>\n",
       "      <th>1</th>\n",
       "      <td>fd915def246a0be-1df91599c979dd7</td>\n",
       "      <td>Johann Heinrich Lambert has work experience in...</td>\n",
       "      <td>Predict the [MASK] in the sentence in one word...</td>\n",
       "      <td>[physics, physical, physic, general physics, p...</td>\n",
       "      <td>mathematics</td>\n",
       "      <td>[mathematics, mathematics, mathematics, mathem...</td>\n",
       "      <td>0.71</td>\n",
       "      <td>[mathematic]</td>\n",
       "      <td>[[mathematic], [mathematic], [mathematic], [ma...</td>\n",
       "      <td>[[physics], [physical], [physic], [general, ph...</td>\n",
       "    </tr>\n",
       "    <tr>\n",
       "      <th>9</th>\n",
       "      <td>fd915def246a0be-1df91599c979dd7</td>\n",
       "      <td>Johann Heinrich Lambert works in the field of ...</td>\n",
       "      <td>Predict the [MASK] in the sentence in one word...</td>\n",
       "      <td>[physics, physical, physic, general physics, p...</td>\n",
       "      <td>mathematics</td>\n",
       "      <td>[mathematics, maths, geometry, mathematics, ma...</td>\n",
       "      <td>0.52</td>\n",
       "      <td>[mathematic]</td>\n",
       "      <td>[[mathematic], [maths], [geometry], [mathemati...</td>\n",
       "      <td>[[physics], [physical], [physic], [general, ph...</td>\n",
       "    </tr>\n",
       "    <tr>\n",
       "      <th>17</th>\n",
       "      <td>fd915def246a0be-1df91599c979dd7</td>\n",
       "      <td>Which field does Johann Heinrich Lambert work ...</td>\n",
       "      <td>Predict the [MASK] in the sentence in one word...</td>\n",
       "      <td>[physics, physical, physic, general physics, p...</td>\n",
       "      <td>mathematics</td>\n",
       "      <td>[mathematics, maths, Mathematics, mathematics,...</td>\n",
       "      <td>0.63</td>\n",
       "      <td>[mathematic]</td>\n",
       "      <td>[[mathematic], [maths], [mathematic], [mathema...</td>\n",
       "      <td>[[physics], [physical], [physic], [general, ph...</td>\n",
       "    </tr>\n",
       "    <tr>\n",
       "      <th>25</th>\n",
       "      <td>fd915def246a0be-1df91599c979dd7</td>\n",
       "      <td>Johann Heinrich Lambert is influential in the ...</td>\n",
       "      <td>Predict the [MASK] in the sentence in one word...</td>\n",
       "      <td>[physics, physical, physic, general physics, p...</td>\n",
       "      <td>geometry</td>\n",
       "      <td>[mathematics, maths, geometry, geometry, analy...</td>\n",
       "      <td>0.30</td>\n",
       "      <td>[geometry]</td>\n",
       "      <td>[[mathematic], [maths], [geometry], [geometry]...</td>\n",
       "      <td>[[physics], [physical], [physic], [general, ph...</td>\n",
       "    </tr>\n",
       "    <tr>\n",
       "      <th>33</th>\n",
       "      <td>fd915def246a0be-1df91599c979dd7</td>\n",
       "      <td>Johann Heinrich Lambert made significant contr...</td>\n",
       "      <td>Predict the [MASK] in the sentence in one word...</td>\n",
       "      <td>[physics, physical, physic, general physics, p...</td>\n",
       "      <td>geometry</td>\n",
       "      <td>[mathematics, maths, geometry, geometry, geome...</td>\n",
       "      <td>0.34</td>\n",
       "      <td>[geometry]</td>\n",
       "      <td>[[mathematic], [maths], [geometry], [geometry]...</td>\n",
       "      <td>[[physics], [physical], [physic], [general, ph...</td>\n",
       "    </tr>\n",
       "  </tbody>\n",
       "</table>\n",
       "</div>"
      ],
      "text/plain": [
       "                               uuid  \\\n",
       "1   fd915def246a0be-1df91599c979dd7   \n",
       "9   fd915def246a0be-1df91599c979dd7   \n",
       "17  fd915def246a0be-1df91599c979dd7   \n",
       "25  fd915def246a0be-1df91599c979dd7   \n",
       "33  fd915def246a0be-1df91599c979dd7   \n",
       "\n",
       "                                           paraphrase  \\\n",
       "1   Johann Heinrich Lambert has work experience in...   \n",
       "9   Johann Heinrich Lambert works in the field of ...   \n",
       "17  Which field does Johann Heinrich Lambert work ...   \n",
       "25  Johann Heinrich Lambert is influential in the ...   \n",
       "33  Johann Heinrich Lambert made significant contr...   \n",
       "\n",
       "                                               prompt  \\\n",
       "1   Predict the [MASK] in the sentence in one word...   \n",
       "9   Predict the [MASK] in the sentence in one word...   \n",
       "17  Predict the [MASK] in the sentence in one word...   \n",
       "25  Predict the [MASK] in the sentence in one word...   \n",
       "33  Predict the [MASK] in the sentence in one word...   \n",
       "\n",
       "                                              answers greedy_predict  \\\n",
       "1   [physics, physical, physic, general physics, p...    mathematics   \n",
       "9   [physics, physical, physic, general physics, p...    mathematics   \n",
       "17  [physics, physical, physic, general physics, p...    mathematics   \n",
       "25  [physics, physical, physic, general physics, p...       geometry   \n",
       "33  [physics, physical, physic, general physics, p...       geometry   \n",
       "\n",
       "                                      sample_predicts  confidence  \\\n",
       "1   [mathematics, mathematics, mathematics, mathem...        0.71   \n",
       "9   [mathematics, maths, geometry, mathematics, ma...        0.52   \n",
       "17  [mathematics, maths, Mathematics, mathematics,...        0.63   \n",
       "25  [mathematics, maths, geometry, geometry, analy...        0.30   \n",
       "33  [mathematics, maths, geometry, geometry, geome...        0.34   \n",
       "\n",
       "    greedy_lemma                                      sample_lemmas  \\\n",
       "1   [mathematic]  [[mathematic], [mathematic], [mathematic], [ma...   \n",
       "9   [mathematic]  [[mathematic], [maths], [geometry], [mathemati...   \n",
       "17  [mathematic]  [[mathematic], [maths], [mathematic], [mathema...   \n",
       "25    [geometry]  [[mathematic], [maths], [geometry], [geometry]...   \n",
       "33    [geometry]  [[mathematic], [maths], [geometry], [geometry]...   \n",
       "\n",
       "                                        answer_lemmas  \n",
       "1   [[physics], [physical], [physic], [general, ph...  \n",
       "9   [[physics], [physical], [physic], [general, ph...  \n",
       "17  [[physics], [physical], [physic], [general, ph...  \n",
       "25  [[physics], [physical], [physic], [general, ph...  \n",
       "33  [[physics], [physical], [physic], [general, ph...  "
      ]
     },
     "execution_count": 43,
     "metadata": {},
     "output_type": "execute_result"
    }
   ],
   "source": [
    "df[df['uuid']==list(df['uuid'].unique())[1]]"
   ]
  },
  {
   "cell_type": "code",
   "execution_count": 23,
   "id": "f9c51395",
   "metadata": {},
   "outputs": [],
   "source": [
    "df.to_feather(os.path.join(root, \"confidence.feather\"))"
   ]
  }
 ],
 "metadata": {
  "kernelspec": {
   "display_name": "eval",
   "language": "python",
   "name": "python3"
  },
  "language_info": {
   "codemirror_mode": {
    "name": "ipython",
    "version": 3
   },
   "file_extension": ".py",
   "mimetype": "text/x-python",
   "name": "python",
   "nbconvert_exporter": "python",
   "pygments_lexer": "ipython3",
   "version": "3.10.12"
  }
 },
 "nbformat": 4,
 "nbformat_minor": 5
}
