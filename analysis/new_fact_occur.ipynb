{
 "cells": [
  {
   "cell_type": "code",
   "execution_count": 1,
   "id": "7b5fe55b",
   "metadata": {},
   "outputs": [],
   "source": [
    "import os\n",
    "import pandas as pd\n",
    "from utils import partial_match_scores\n",
    "\n",
    "\n",
    "root = \"../datasets/myriadlama/llama3.2_1b_it\"\n",
    "# root = \"../datasets/myriadlama/llama3.2_3b_it\"\n",
    "# root = \"../datasets/myriadlama/qwen2.5_3b_it\"\n",
    "# root = \"../datasets/myriadlama/qwen2.5_7b_it\"\n",
    "root = \"../datasets/myriadlama/llama3.1_8b_it\"\n"
   ]
  },
  {
   "cell_type": "code",
   "execution_count": 2,
   "id": "aaad7e28",
   "metadata": {},
   "outputs": [
    {
     "name": "stdout",
     "output_type": "stream",
     "text": [
      "Paraphrase 0: 0.5520\n",
      "Paraphrase 1: 0.4590\n",
      "Paraphrase 2: 0.5780\n",
      "Paraphrase 3: 0.5850\n",
      "Paraphrase 4: 0.5210\n"
     ]
    }
   ],
   "source": [
    "from utils import partial_match\n",
    "\n",
    "\n",
    "confi_df = pd.read_feather(os.path.join(root, \"confidence.feather\"))\n",
    "confi_df[\"sample_lemmas\"] = confi_df[\"sample_lemmas\"].apply(lambda xs: [list(x) for x in xs])\n",
    "confi_df[\"answer_lemmas\"] = confi_df[\"answer_lemmas\"].apply(lambda xs: [list(x) for x in xs])\n",
    "\n",
    "\n",
    "all_matches = []\n",
    "all_predictions = []\n",
    "all_answers = []\n",
    "all_uuids = []\n",
    "for uuid, sconfi_df in confi_df.groupby(\"uuid\"):\n",
    "    all_predictions.append(sconfi_df['greedy_lemma'].tolist())\n",
    "    all_answers.append(sconfi_df['answer_lemmas'].tolist()[0])\n",
    "    all_uuids.append(uuid)\n",
    "    # matches, acc = partial_match_score(sdf['prediction'].tolist(), sdf[\"answers\"].tolist())\n",
    "\n",
    "for idx, predictions in enumerate(zip(*all_predictions)):\n",
    "    matches = []\n",
    "    for prediction, _gold_answers in zip(predictions, all_answers):\n",
    "        score = partial_match(prediction, _gold_answers, False)\n",
    "        matches.append(int(score))\n",
    "    \n",
    "    all_matches.append(matches)\n",
    "    print(f\"Paraphrase {idx}: {sum(matches)/len(matches):.4f}\")\n"
   ]
  },
  {
   "cell_type": "code",
   "execution_count": 3,
   "id": "11e95a5d",
   "metadata": {},
   "outputs": [
    {
     "name": "stdout",
     "output_type": "stream",
     "text": [
      "Ratio of or_match with 2 paraphrases: 0.6400\n",
      "Ratio of or_match with 3 paraphrases: 0.7120\n",
      "Ratio of or_match with 4 paraphrases: 0.7450\n",
      "Ratio of or_match with 5 paraphrases: 0.7550\n"
     ]
    }
   ],
   "source": [
    "for i in range(2, 6):\n",
    "    or_match = sum(any(ms) for ms in zip(*all_matches[:i]))\n",
    "    print(f\"Ratio of or_match with {i} paraphrases: {or_match / len(all_matches[0]):.4f}\")    \n",
    "    "
   ]
  },
  {
   "cell_type": "code",
   "execution_count": 5,
   "id": "68762f75",
   "metadata": {},
   "outputs": [
    {
     "name": "stdout",
     "output_type": "stream",
     "text": [
      "5d09424876ba7f4-5dc40def3637be0 ['nbc'] [['nbc'], ['national', 'broadcasting', 'company']]\n"
     ]
    }
   ],
   "source": [
    "# for i in range(2, 6):\n",
    "for i in [2]:\n",
    "    weighted_avg_fn = os.path.join(root, f\"ensemble_weighted_avg-{idx}.feather\")\n",
    "    df = pd.read_feather(weighted_avg_fn)\n",
    "    df[\"answer_lemmas\"] = df[\"answer_lemmas\"].apply(lambda xs: [list(x) for x in xs])\n",
    "\n",
    "    uuids = df[\"uuid\"].tolist()\n",
    "    answers = [ans for ans in df[\"answer_lemmas\"].tolist()]\n",
    "    predictions = [pred for pred in df[\"predict_lemma\"].tolist()]\n",
    "    ensemble_matches = []\n",
    "\n",
    "    interesting_uuids = []\n",
    "    for uuid, prediction, gold_answers in zip(uuids, predictions, answers):\n",
    "        matched = partial_match(prediction, gold_answers, False)\n",
    "        ensemble_matches.append(int(matched))\n",
    "\n",
    "        sconfi_df = confi_df[confi_df[\"uuid\"] == uuid]\n",
    "        answers = sconfi_df[\"answer_lemmas\"].tolist()[0]\n",
    "        or_matched = False\n",
    "        for _prediction in sconfi_df[\"greedy_lemma\"].tolist():\n",
    "            or_matched |= partial_match(_prediction, answers, False)\n",
    "\n",
    "        if matched and not or_matched:\n",
    "            print(uuid, prediction, gold_answers)\n",
    "            interesting_uuids.append(uuid)"
   ]
  },
  {
   "cell_type": "code",
   "execution_count": 6,
   "id": "46143f18",
   "metadata": {},
   "outputs": [
    {
     "data": {
      "application/vnd.microsoft.datawrangler.viewer.v0+json": {
       "columns": [
        {
         "name": "index",
         "rawType": "int64",
         "type": "integer"
        },
        {
         "name": "uuid",
         "rawType": "object",
         "type": "string"
        },
        {
         "name": "paraphrase",
         "rawType": "object",
         "type": "string"
        },
        {
         "name": "prompt",
         "rawType": "object",
         "type": "string"
        },
        {
         "name": "answers",
         "rawType": "object",
         "type": "unknown"
        },
        {
         "name": "greedy_predict",
         "rawType": "object",
         "type": "string"
        },
        {
         "name": "sample_predicts",
         "rawType": "object",
         "type": "unknown"
        },
        {
         "name": "confidence",
         "rawType": "float64",
         "type": "float"
        },
        {
         "name": "greedy_lemma",
         "rawType": "object",
         "type": "unknown"
        },
        {
         "name": "sample_lemmas",
         "rawType": "object",
         "type": "unknown"
        },
        {
         "name": "answer_lemmas",
         "rawType": "object",
         "type": "unknown"
        }
       ],
       "ref": "15fa6c8f-21ed-48c6-aa86-2c02c2879e1b",
       "rows": [
        [
         "2321",
         "5d09424876ba7f4-5dc40def3637be0",
         "Hey, Landlord premiered on the network [MASK].",
         "Predict the [MASK] in the sentence in one word.\n\nQ: Libya and [MASK] are neighboring countries.\nA: Chad\n\nQ: [MASK] is a member of lauric acid.\nA: carbon\n\nQ: Convent of Las Descalzas Reales is located in [MASK].\nA: Madrid\n\nQ: [MASK] consists of flue.\nA: chimney\n\nQ: In which language is Google Map Maker written? [MASK].\nA: Bangla\n\nQ: Hey, Landlord premiered on the network [MASK].\nA:",
         "['NBC' 'National Broadcasting Company']",
         "HBO",
         "['HBO' 'UGC' 'MTV' 'tvn' 'USA.' 'Cooking Channel' 'MTV' 'UK' 'MHz' 'AMC'\n 'TVB.' 'Starz' 'CBS' 'Starz' 'HBO' 'aired' 'Hulu' 'Showtime'\n 'John & Donna Land' 'FX' 'MTV' 'YTB' 'Oxygen' 'Prime Video' 'HBO'\n 'Viceland' 'PBS' 'ZDF' 'Viceland' 'cable' 'Comedy Central' 'CBC'\n 'YouTube' 'AT&T' 'Starz' 'TV' 'radio' 'HBO' '2014 MTV.' 'HBO' 'NBC' 'IFC'\n 'HBO' 'Kronke' 'YouTube' 'whenI was a teenager' 'Liverpool TV' 'Viceland'\n 'SDP Public Television of North Macedonia' 'India' 'HBO' 'MTV2'\n 'Channel 9' 'Japanese television channel NHK' 'SundanceTV' 'BBC' 'ABC'\n 'TBS' 'channel' 'TBS.' 'YouTube' 'Netvibes' 'BBC' 'NTV' 'MTV3' 'NBC'\n 'HBO' 'Vice' 'BBC' 'HBO' 'Australian ABC' 'Country' 'HBO' 'BET'\n 'television' 'SundanceTV' 'Cartoon Network' 'PBS' 'theatremx' 'HBO'\n 'India' 'Prismarts' 'The CW' 'HBO' 'CBS' 'SundanceTV' 'HBO'\n 'Internet Brands' 'Egyptian satirical show' 'E!' 'MTV' 'Showtime' 'ABC.'\n 'HBO' 'HBO' 'PBS' 'MTVUK' 'DreamWorks' 'Grasshopper' 'BET']",
         "0.15",
         "['hbo']",
         "[['hbo'], ['ugc'], ['mtv'], ['tvn'], ['usa', '.'], ['cooking', 'channel'], ['mtv'], ['uk'], ['mhz'], ['amc'], ['tvb', '.'], ['starz'], ['cbs'], ['starz'], ['hbo'], ['air'], ['hulu'], ['showtime'], ['john', '&', 'donna', 'land'], ['fx'], ['mtv'], ['ytb'], ['oxygen'], ['prime', 'video'], ['hbo'], ['viceland'], ['pbs'], ['zdf'], ['viceland'], ['cable'], ['comedy', 'central'], ['cbc'], ['youtube'], ['at&t'], ['starz'], ['tv'], ['radio'], ['hbo'], ['2014', 'mtv', '.'], ['hbo'], ['nbc'], ['ifc'], ['hbo'], ['kronke'], ['youtube'], ['wheni', 'be', 'a', 'teenager'], ['liverpool', 'tv'], ['viceland'], ['sdp', 'public', 'television', 'of', 'north', 'macedonia'], ['india'], ['hbo'], ['mtv2'], ['channel', '9'], ['japanese', 'television', 'channel', 'nhk'], ['sundancetv'], ['bbc'], ['abc'], ['tb'], ['channel'], ['tbs', '.'], ['youtube'], ['netvibe'], ['bbc'], ['ntv'], ['mtv3'], ['nbc'], ['hbo'], ['vice'], ['bbc'], ['hbo'], ['australian', 'abc'], ['country'], ['hbo'], ['bet'], ['television'], ['sundancetv'], ['cartoon', 'network'], ['pbs'], ['theatremx'], ['hbo'], ['india'], ['prismart'], ['the', 'cw'], ['hbo'], ['cbs'], ['sundancetv'], ['hbo'], ['internet', 'brands'], ['egyptian', 'satirical', 'show'], ['e', '!'], ['mtv'], ['showtime'], ['abc', '.'], ['hbo'], ['hbo'], ['pbs'], ['mtvuk'], ['dreamwork'], ['grasshopper'], ['bet']]",
         "[['nbc'], ['national', 'broadcasting', 'company']]"
        ],
        [
         "2329",
         "5d09424876ba7f4-5dc40def3637be0",
         "[MASK] is the first air channel of Hey, Landlord.",
         "Predict the [MASK] in the sentence in one word.\n\nQ: Libya and [MASK] are neighboring countries.\nA: Chad\n\nQ: [MASK] is a member of lauric acid.\nA: carbon\n\nQ: Convent of Las Descalzas Reales is located in [MASK].\nA: Madrid\n\nQ: [MASK] consists of flue.\nA: chimney\n\nQ: In which language is Google Map Maker written? [MASK].\nA: Bangla\n\nQ: [MASK] is the first air channel of Hey, Landlord.\nA:",
         "['NBC' 'National Broadcasting Company']",
         "1",
         "['Zhenhao' 'U1' 'War ' 'Cathode Ray' 'Econ' 'Cooking&Food Close little B'\n 'Lian' 'show' 'west' 'Songdai' 'TVB' 'FM' 'song' 'liang' 'Troll' 'Yinxi'\n 'Beat' 'ShowRaceHandel' 'John Deacon' 'promo' 'vintage' 'YTB' 'rarely'\n 'Prime' 'Ultra' 'netease' 'CATV' 'ZHEN-HAO' 'SIC' 'A-Channel' 'shrimp'\n 'CBC' 'Tony Kelly' 'AT-VMusic' 'Hot' 'Falsetto' 'radio' 'Shining'\n '106 FM' 'dance' 'wapi' 'chung' 'elevation' 'Yang' 'Program' 'Hello'\n 'Liverpool' 'news' 'SDG Radio' 'India' 'Radio' 'postcard' 'Fifth' 'Qasar'\n 'agriculture' 'floor' 'Radio' 'Tngrgr 99' 'morning' 'vocal' 'median'\n 'Net Six' 'channel' 'Niti..' 'Rush' 'relax' 'Hello' 'Vice Roll' 'success'\n 'debut' 'White House' 'Country' 'Beijing' 'radio' 'song' 'Mandarin'\n 'Einstein' 'foruta' 'AlQuran' 'Classical' 'Taiwan' 'Finn' 'The ' 'B'\n 'episode' 'Amma' 'GPT-Baixu' 'Internetical' 'Egyptian satirical' 'EBMFM1'\n 'red' 'Episode' 'Danger.' 'Radio' 'Qingying' 'PBS' '6Music'\n 'Dream Sequence' 'Grasshopper' 'Be Be (jogging music)²²)']",
         "0.0",
         "['1']",
         "[['zhenhao'], ['u1'], ['war'], ['cathode', 'ray'], ['econ'], ['cooking&food', 'close', 'little', 'b'], ['lian'], ['show'], ['west'], ['songdai'], ['tvb'], ['fm'], ['song'], ['liang'], ['troll'], ['yinxi'], ['beat'], ['showracehandel'], ['john', 'deacon'], ['promo'], ['vintage'], ['ytb'], ['rarely'], ['prime'], ['ultra'], ['netease'], ['catv'], ['zhen', '-', 'hao'], ['sic'], ['a', '-', 'channel'], ['shrimp'], ['cbc'], ['tony', 'kelly'], ['at', '-', 'vmusic'], ['hot'], ['falsetto'], ['radio'], ['shine'], ['106', 'fm'], ['dance'], ['wapi'], ['chung'], ['elevation'], ['yang'], ['program'], ['hello'], ['liverpool'], ['news'], ['sdg', 'radio'], ['india'], ['radio'], ['postcard'], ['fifth'], ['qasar'], ['agriculture'], ['floor'], ['radio'], ['tngrgr', '99'], ['morning'], ['vocal'], ['median'], ['net', 'six'], ['channel'], ['niti', '..'], ['rush'], ['relax'], ['hello'], ['vice', 'roll'], ['success'], ['debut'], ['white', 'house'], ['country'], ['beijing'], ['radio'], ['song'], ['mandarin'], ['einstein'], ['foruta'], ['alquran'], ['classical'], ['taiwan'], ['finn'], ['the'], ['b'], ['episode'], ['amma'], ['gpt', '-', 'baixu'], ['internetical'], ['egyptian', 'satirical'], ['ebmfm1'], ['red'], ['episode'], ['danger', '.'], ['radio'], ['qingying'], ['pbs'], ['6music'], ['dream', 'sequence'], ['grasshopper'], ['be', 'be', '(', 'jogging', 'music)²²', ')']]",
         "[['nbc'], ['national', 'broadcasting', 'company']]"
        ],
        [
         "2337",
         "5d09424876ba7f4-5dc40def3637be0",
         "Which service originally aired Hey, Landlord? [MASK].",
         "Predict the [MASK] in the sentence in one word.\n\nQ: Libya and [MASK] are neighboring countries.\nA: Chad\n\nQ: [MASK] is a member of lauric acid.\nA: carbon\n\nQ: Convent of Las Descalzas Reales is located in [MASK].\nA: Madrid\n\nQ: [MASK] consists of flue.\nA: chimney\n\nQ: In which language is Google Map Maker written? [MASK].\nA: Bangla\n\nQ: Which service originally aired Hey, Landlord? [MASK].\nA:",
         "['NBC' 'National Broadcasting Company']",
         "CBS",
         "['NBC' 'CBS' 'Warner Bros' '================= NBC' 'USA.' 'CBS' 'CBS'\n 'CBS' 'CBS' 'ABC' 'TVS.' 'PBS' 'CBS' 'NBC' 'CBS' 'aired ' 'ABC'\n 'FoxRaceHandel was a chicken, hence in a few minutes we are carrying out another meat scheme'\n 'John Glenn Jones Arcade' 'PBS' 'NBC' 'syndication' 'CBS'\n 'Sammy Davis Jr. show' 'NBC' 'CBS ' 'PBS' 'ABC' 'CBS' 'cable' 'ABC' 'CBC'\n 'PBS' 'AT&T Broadway' 'CBS' 'Jay' 'radio' 'DuMont' 'NBC' 'HBO' 'NBC'\n 'CBS' 'HBO' 'NBC' 'Hanna-Barbera' 'CBS' 'NBC' 'CBS' 'CBC' 'India' 'ABC'\n 'ABC.' 'NBC' 'CBS' 'NBC. ' 'BBC' 'ABC' 'BBC' 'NBC' 'CBS' 'NBC' 'CBS'\n 'NBC' 'N.B.C.' 'ABC' 'NBC' 'CBS' 'ABC' 'CBS' 'ABC' 'CBS' 'CBS' 'NBC'\n 'radio' 'television' 'NBC' 'NBC' 'PBS.' 'CBS' 'CBS' 'CBS' 'ABC.'\n 'The Windsor Panel' 'NBC' 'CBS' 'CBS' 'BBC Television.'\n 'Internet Archive' 'Egyptian Television' 'ABC' 'ABC' 'CBS' 'ABC.' 'HBO'\n 'NBC' 'PBS' 'CBS' 'CBS' 'NBC' 'NBC']",
         "0.29",
         "['cbs']",
         "[['nbc'], ['cbs'], ['warner', 'bros'], ['=', '=', '=', '=', '=', '=', '=', '=', '=', '=', '=', '=', '=', '=', '=', '=', '=', 'nbc'], ['usa', '.'], ['cbs'], ['cbs'], ['cbs'], ['cbs'], ['abc'], ['tvs', '.'], ['pbs'], ['cbs'], ['nbc'], ['cbs'], ['air'], ['abc'], ['foxracehandel', 'be', 'a', 'chicken', ',', 'hence', 'in', 'a', 'few', 'minute', 'we', 'be', 'carry', 'out', 'another', 'meat', 'scheme'], ['john', 'glenn', 'jones', 'arcade'], ['pbs'], ['nbc'], ['syndication'], ['cbs'], ['sammy', 'davis', 'jr.', 'show'], ['nbc'], ['cbs'], ['pbs'], ['abc'], ['cbs'], ['cable'], ['abc'], ['cbc'], ['pbs'], ['at&t', 'broadway'], ['cbs'], ['jay'], ['radio'], ['dumont'], ['nbc'], ['hbo'], ['nbc'], ['cbs'], ['hbo'], ['nbc'], ['hanna', '-', 'barbera'], ['cbs'], ['nbc'], ['cbs'], ['cbc'], ['india'], ['abc'], ['abc', '.'], ['nbc'], ['cbs'], ['nbc', '.'], ['bbc'], ['abc'], ['bbc'], ['nbc'], ['cbs'], ['nbc'], ['cbs'], ['nbc'], ['n.b.c.'], ['abc'], ['nbc'], ['cbs'], ['abc'], ['cbs'], ['abc'], ['cbs'], ['cbs'], ['nbc'], ['radio'], ['television'], ['nbc'], ['nbc'], ['pbs', '.'], ['cbs'], ['cbs'], ['cbs'], ['abc', '.'], ['the', 'windsor', 'panel'], ['nbc'], ['cbs'], ['cbs'], ['bbc', 'television', '.'], ['internet', 'archive'], ['egyptian', 'television'], ['abc'], ['abc'], ['cbs'], ['abc', '.'], ['hbo'], ['nbc'], ['pbs'], ['cbs'], ['cbs'], ['nbc'], ['nbc']]",
         "[['nbc'], ['national', 'broadcasting', 'company']]"
        ],
        [
         "2345",
         "5d09424876ba7f4-5dc40def3637be0",
         "Hey, Landlord was originally aired on [MASK].",
         "Predict the [MASK] in the sentence in one word.\n\nQ: Libya and [MASK] are neighboring countries.\nA: Chad\n\nQ: [MASK] is a member of lauric acid.\nA: carbon\n\nQ: Convent of Las Descalzas Reales is located in [MASK].\nA: Madrid\n\nQ: [MASK] consists of flue.\nA: chimney\n\nQ: In which language is Google Map Maker written? [MASK].\nA: Bangla\n\nQ: Hey, Landlord was originally aired on [MASK].\nA:",
         "['NBC' 'National Broadcasting Company']",
         "BBC",
         "['NBC' 'UGC' 'MTV JAPAN show Hai Rei' 'tv' 'USA' 'CBS' 'Netflix' 'UK'\n 'westwoodonenetwork' 'AMC' 'TVB.' 'BBC2' 'CBS' 'BBC' 'CBS' 'aired on'\n 'Hulu' 'Showtime' 'John DeLorean' 'FX' 'vintage' 'Netflix' 'CBC'\n 'Prime Video' 'NBC' 'netflix' 'PBS' 'ZDF' 'Viceland' 'cable' 'shrimpboat'\n 'CBC' 'YouTube' 'AT&T Broadway Radio ' 'Netflix' 'Jay' 'radio' 'HBO'\n '2011' 'HBO' 'BBC' 'Hulu' 'HBO' 'Kronos Media' 'YouTube' 'when'\n 'Liverpool' 'Viceland' 'SDP Singapore' 'India' 'HBO' 'MTV2' 'Channel 9'\n 'Japanese television channel NHK' 'BBC_channels' 'BBC' 'ABC' 'BBC'\n 'channel' 'Friday' 'YouTube' 'CBS' 'BBC' 'NDTV Imagine' 'BBC' 'NBC' 'CBS'\n 'Vice' 'BBC' 'ABC' 'Australian ABC television station' 'Country'\n 'BBC Four' 'BBC' 'television' 'SundanceTV' 'NBC' 'BBC.' 'theatres'\n 'foxlife' 'India' 'CBC' 'The Windsor Panel' 'B−BTV' 'CBS' 'Europe'\n 'BBC America' 'Internet' 'Egyptian TV' 'E4' 'ABC' 'Nickelodeon' 'ABC.'\n 'HBO' 'NBC' 'PBS' 'MTVUK' 'Netflix australia' 'Grasshopper' 'Fox']",
         "0.11",
         "['bbc']",
         "[['nbc'], ['ugc'], ['mtv', 'japan', 'show', 'hai', 'rei'], ['tv'], ['usa'], ['cbs'], ['netflix'], ['uk'], ['westwoodonenetwork'], ['amc'], ['tvb', '.'], ['bbc2'], ['cbs'], ['bbc'], ['cbs'], ['air', 'on'], ['hulu'], ['showtime'], ['john', 'delorean'], ['fx'], ['vintage'], ['netflix'], ['cbc'], ['prime', 'video'], ['nbc'], ['netflix'], ['pbs'], ['zdf'], ['viceland'], ['cable'], ['shrimpboat'], ['cbc'], ['youtube'], ['at&t', 'broadway', 'radio'], ['netflix'], ['jay'], ['radio'], ['hbo'], ['2011'], ['hbo'], ['bbc'], ['hulu'], ['hbo'], ['kronos', 'media'], ['youtube'], ['when'], ['liverpool'], ['viceland'], ['sdp', 'singapore'], ['india'], ['hbo'], ['mtv2'], ['channel', '9'], ['japanese', 'television', 'channel', 'nhk'], ['bbc_channel'], ['bbc'], ['abc'], ['bbc'], ['channel'], ['friday'], ['youtube'], ['cbs'], ['bbc'], ['ndtv', 'imagine'], ['bbc'], ['nbc'], ['cbs'], ['vice'], ['bbc'], ['abc'], ['australian', 'abc', 'television', 'station'], ['country'], ['bbc', 'four'], ['bbc'], ['television'], ['sundancetv'], ['nbc'], ['bbc', '.'], ['theatre'], ['foxlife'], ['india'], ['cbc'], ['the', 'windsor', 'panel'], ['b−btv'], ['cbs'], ['europe'], ['bbc', 'america'], ['internet'], ['egyptian', 'tv'], ['e4'], ['abc'], ['nickelodeon'], ['abc', '.'], ['hbo'], ['nbc'], ['pbs'], ['mtvuk'], ['netflix', 'australia'], ['grasshopper'], ['fox']]",
         "[['nbc'], ['national', 'broadcasting', 'company']]"
        ],
        [
         "2353",
         "5d09424876ba7f4-5dc40def3637be0",
         "Hey, Landlord was initially launched on [MASK].",
         "Predict the [MASK] in the sentence in one word.\n\nQ: Libya and [MASK] are neighboring countries.\nA: Chad\n\nQ: [MASK] is a member of lauric acid.\nA: carbon\n\nQ: Convent of Las Descalzas Reales is located in [MASK].\nA: Madrid\n\nQ: [MASK] consists of flue.\nA: chimney\n\nQ: In which language is Google Map Maker written? [MASK].\nA: Bangla\n\nQ: Hey, Landlord was initially launched on [MASK].\nA:",
         "['NBC' 'National Broadcasting Company']",
         "2013",
         "['YouTube' 'iPhone' 'Warner Bros Pictures.' 'Facebook' 'Facebook.'\n 'video&comma; little B&auml' 'YouTube' 'UK' '1957' 'June' 'Wattpad'\n 'social networks' 'April' 'iOS' 'Trollboard' '2008' 'Steam' 'eBay'\n 'John Deere Arcade Vision' 'iTunes' 'Bandcamp' 'YTB' 'iOS' 'Prime Video'\n 'Ultra News' 'netflix' 'Xbox'\n 'Z Daytivie atroughys I;eron Cash Lach Die ¡Service Te(expr;i stor'\n 'Vicinity' 'Mobile' 'shrimpboat' 'September' 'YouTube' 'IOS' 'Netflix'\n 'Jay' 'radio' 'iOS' '2014' 'iPhone' 'Facebook' 'Itunes' '26th November'\n 'Android' 'YouTube' 'when' 'Liverpool' 'April' 'SDG东' 'India' 'Facebook'\n 'PC' 'Steam' 'Japanese television channel NHK' '2017' 'Facebook' '2016'\n 'Tngrgrgames' 'September' 'iOS' 'median' 'Netvibes' 'Spotify' 'Dhingana'\n 'Steam' 'iOS' 'tubi' 'Vice' 'android' 'Android' 'Facebook' 'iTunes'\n 'startup accelerator' 'radio' 'iOS' 'darwin' 'September' 'mobile'\n 'theatlantic' 'beta' 'India' 'Spotify' 'Theatrilio' 'Baidu' 'Google Play'\n 'Apple Care' 'BBC iplayer' 'Internet Archive' 'Egyptian usability' '1983'\n 'YouTube' 'Kickstarter' 'Facebook.' 'appstore' '2009' 'roku' '14th'\n 'DreamHack' 'Facebook' 'Japan']",
         "0.0",
         "['2013']",
         "[['youtube'], ['iphone'], ['warner', 'bros', 'pictures', '.'], ['facebook'], ['facebook', '.'], ['video&comma', ';', 'little', 'b&auml'], ['youtube'], ['uk'], ['1957'], ['june'], ['wattpad'], ['social', 'network'], ['april'], ['ios'], ['trollboard'], ['2008'], ['steam'], ['ebay'], ['john', 'deere', 'arcade', 'vision'], ['itune'], ['bandcamp'], ['ytb'], ['ios'], ['prime', 'video'], ['ultra', 'news'], ['netflix'], ['xbox'], ['z', 'daytivie', 'atroughy', 'i;eron', 'cash', 'lach', 'die', '¡', 'service', 'te(expr;i', 'stor'], ['vicinity'], ['mobile'], ['shrimpboat'], ['september'], ['youtube'], ['ios'], ['netflix'], ['jay'], ['radio'], ['ios'], ['2014'], ['iphone'], ['facebook'], ['itunes'], ['26th', 'november'], ['android'], ['youtube'], ['when'], ['liverpool'], ['april'], ['sdg东'], ['india'], ['facebook'], ['pc'], ['steam'], ['japanese', 'television', 'channel', 'nhk'], ['2017'], ['facebook'], ['2016'], ['tngrgrgame'], ['september'], ['ios'], ['median'], ['netvibe'], ['spotify'], ['dhingana'], ['steam'], ['ios'], ['tubi'], ['vice'], ['android'], ['android'], ['facebook'], ['itune'], ['startup', 'accelerator'], ['radio'], ['ios'], ['darwin'], ['september'], ['mobile'], ['theatlantic'], ['beta'], ['india'], ['spotify'], ['theatrilio'], ['baidu'], ['google', 'play'], ['apple', 'care'], ['bbc', 'iplayer'], ['internet', 'archive'], ['egyptian', 'usability'], ['1983'], ['youtube'], ['kickstarter'], ['facebook', '.'], ['appstore'], ['2009'], ['roku'], ['14th'], ['dreamhack'], ['facebook'], ['japan']]",
         "[['nbc'], ['national', 'broadcasting', 'company']]"
        ]
       ],
       "shape": {
        "columns": 10,
        "rows": 5
       }
      },
      "text/html": [
       "<div>\n",
       "<style scoped>\n",
       "    .dataframe tbody tr th:only-of-type {\n",
       "        vertical-align: middle;\n",
       "    }\n",
       "\n",
       "    .dataframe tbody tr th {\n",
       "        vertical-align: top;\n",
       "    }\n",
       "\n",
       "    .dataframe thead th {\n",
       "        text-align: right;\n",
       "    }\n",
       "</style>\n",
       "<table border=\"1\" class=\"dataframe\">\n",
       "  <thead>\n",
       "    <tr style=\"text-align: right;\">\n",
       "      <th></th>\n",
       "      <th>uuid</th>\n",
       "      <th>paraphrase</th>\n",
       "      <th>prompt</th>\n",
       "      <th>answers</th>\n",
       "      <th>greedy_predict</th>\n",
       "      <th>sample_predicts</th>\n",
       "      <th>confidence</th>\n",
       "      <th>greedy_lemma</th>\n",
       "      <th>sample_lemmas</th>\n",
       "      <th>answer_lemmas</th>\n",
       "    </tr>\n",
       "  </thead>\n",
       "  <tbody>\n",
       "    <tr>\n",
       "      <th>2321</th>\n",
       "      <td>5d09424876ba7f4-5dc40def3637be0</td>\n",
       "      <td>Hey, Landlord premiered on the network [MASK].</td>\n",
       "      <td>Predict the [MASK] in the sentence in one word...</td>\n",
       "      <td>[NBC, National Broadcasting Company]</td>\n",
       "      <td>HBO</td>\n",
       "      <td>[HBO, UGC, MTV, tvn, USA., Cooking Channel, MT...</td>\n",
       "      <td>0.15</td>\n",
       "      <td>[hbo]</td>\n",
       "      <td>[[hbo], [ugc], [mtv], [tvn], [usa, .], [cookin...</td>\n",
       "      <td>[[nbc], [national, broadcasting, company]]</td>\n",
       "    </tr>\n",
       "    <tr>\n",
       "      <th>2329</th>\n",
       "      <td>5d09424876ba7f4-5dc40def3637be0</td>\n",
       "      <td>[MASK] is the first air channel of Hey, Landlord.</td>\n",
       "      <td>Predict the [MASK] in the sentence in one word...</td>\n",
       "      <td>[NBC, National Broadcasting Company]</td>\n",
       "      <td>1</td>\n",
       "      <td>[Zhenhao, U1, War , Cathode Ray, Econ, Cooking...</td>\n",
       "      <td>0.00</td>\n",
       "      <td>[1]</td>\n",
       "      <td>[[zhenhao], [u1], [war], [cathode, ray], [econ...</td>\n",
       "      <td>[[nbc], [national, broadcasting, company]]</td>\n",
       "    </tr>\n",
       "    <tr>\n",
       "      <th>2337</th>\n",
       "      <td>5d09424876ba7f4-5dc40def3637be0</td>\n",
       "      <td>Which service originally aired Hey, Landlord? ...</td>\n",
       "      <td>Predict the [MASK] in the sentence in one word...</td>\n",
       "      <td>[NBC, National Broadcasting Company]</td>\n",
       "      <td>CBS</td>\n",
       "      <td>[NBC, CBS, Warner Bros, ================= NBC,...</td>\n",
       "      <td>0.29</td>\n",
       "      <td>[cbs]</td>\n",
       "      <td>[[nbc], [cbs], [warner, bros], [=, =, =, =, =,...</td>\n",
       "      <td>[[nbc], [national, broadcasting, company]]</td>\n",
       "    </tr>\n",
       "    <tr>\n",
       "      <th>2345</th>\n",
       "      <td>5d09424876ba7f4-5dc40def3637be0</td>\n",
       "      <td>Hey, Landlord was originally aired on [MASK].</td>\n",
       "      <td>Predict the [MASK] in the sentence in one word...</td>\n",
       "      <td>[NBC, National Broadcasting Company]</td>\n",
       "      <td>BBC</td>\n",
       "      <td>[NBC, UGC, MTV JAPAN show Hai Rei, tv, USA, CB...</td>\n",
       "      <td>0.11</td>\n",
       "      <td>[bbc]</td>\n",
       "      <td>[[nbc], [ugc], [mtv, japan, show, hai, rei], [...</td>\n",
       "      <td>[[nbc], [national, broadcasting, company]]</td>\n",
       "    </tr>\n",
       "    <tr>\n",
       "      <th>2353</th>\n",
       "      <td>5d09424876ba7f4-5dc40def3637be0</td>\n",
       "      <td>Hey, Landlord was initially launched on [MASK].</td>\n",
       "      <td>Predict the [MASK] in the sentence in one word...</td>\n",
       "      <td>[NBC, National Broadcasting Company]</td>\n",
       "      <td>2013</td>\n",
       "      <td>[YouTube, iPhone, Warner Bros Pictures., Faceb...</td>\n",
       "      <td>0.00</td>\n",
       "      <td>[2013]</td>\n",
       "      <td>[[youtube], [iphone], [warner, bros, pictures,...</td>\n",
       "      <td>[[nbc], [national, broadcasting, company]]</td>\n",
       "    </tr>\n",
       "  </tbody>\n",
       "</table>\n",
       "</div>"
      ],
      "text/plain": [
       "                                 uuid  \\\n",
       "2321  5d09424876ba7f4-5dc40def3637be0   \n",
       "2329  5d09424876ba7f4-5dc40def3637be0   \n",
       "2337  5d09424876ba7f4-5dc40def3637be0   \n",
       "2345  5d09424876ba7f4-5dc40def3637be0   \n",
       "2353  5d09424876ba7f4-5dc40def3637be0   \n",
       "\n",
       "                                             paraphrase  \\\n",
       "2321     Hey, Landlord premiered on the network [MASK].   \n",
       "2329  [MASK] is the first air channel of Hey, Landlord.   \n",
       "2337  Which service originally aired Hey, Landlord? ...   \n",
       "2345      Hey, Landlord was originally aired on [MASK].   \n",
       "2353    Hey, Landlord was initially launched on [MASK].   \n",
       "\n",
       "                                                 prompt  \\\n",
       "2321  Predict the [MASK] in the sentence in one word...   \n",
       "2329  Predict the [MASK] in the sentence in one word...   \n",
       "2337  Predict the [MASK] in the sentence in one word...   \n",
       "2345  Predict the [MASK] in the sentence in one word...   \n",
       "2353  Predict the [MASK] in the sentence in one word...   \n",
       "\n",
       "                                   answers greedy_predict  \\\n",
       "2321  [NBC, National Broadcasting Company]            HBO   \n",
       "2329  [NBC, National Broadcasting Company]              1   \n",
       "2337  [NBC, National Broadcasting Company]            CBS   \n",
       "2345  [NBC, National Broadcasting Company]            BBC   \n",
       "2353  [NBC, National Broadcasting Company]           2013   \n",
       "\n",
       "                                        sample_predicts  confidence  \\\n",
       "2321  [HBO, UGC, MTV, tvn, USA., Cooking Channel, MT...        0.15   \n",
       "2329  [Zhenhao, U1, War , Cathode Ray, Econ, Cooking...        0.00   \n",
       "2337  [NBC, CBS, Warner Bros, ================= NBC,...        0.29   \n",
       "2345  [NBC, UGC, MTV JAPAN show Hai Rei, tv, USA, CB...        0.11   \n",
       "2353  [YouTube, iPhone, Warner Bros Pictures., Faceb...        0.00   \n",
       "\n",
       "     greedy_lemma                                      sample_lemmas  \\\n",
       "2321        [hbo]  [[hbo], [ugc], [mtv], [tvn], [usa, .], [cookin...   \n",
       "2329          [1]  [[zhenhao], [u1], [war], [cathode, ray], [econ...   \n",
       "2337        [cbs]  [[nbc], [cbs], [warner, bros], [=, =, =, =, =,...   \n",
       "2345        [bbc]  [[nbc], [ugc], [mtv, japan, show, hai, rei], [...   \n",
       "2353       [2013]  [[youtube], [iphone], [warner, bros, pictures,...   \n",
       "\n",
       "                                   answer_lemmas  \n",
       "2321  [[nbc], [national, broadcasting, company]]  \n",
       "2329  [[nbc], [national, broadcasting, company]]  \n",
       "2337  [[nbc], [national, broadcasting, company]]  \n",
       "2345  [[nbc], [national, broadcasting, company]]  \n",
       "2353  [[nbc], [national, broadcasting, company]]  "
      ]
     },
     "execution_count": 6,
     "metadata": {},
     "output_type": "execute_result"
    }
   ],
   "source": [
    "confi_df[confi_df[\"uuid\"] == interesting_uuids[0]]"
   ]
  },
  {
   "cell_type": "code",
   "execution_count": null,
   "id": "2cd6a7e8",
   "metadata": {},
   "outputs": [],
   "source": []
  }
 ],
 "metadata": {
  "kernelspec": {
   "display_name": "eval",
   "language": "python",
   "name": "python3"
  },
  "language_info": {
   "codemirror_mode": {
    "name": "ipython",
    "version": 3
   },
   "file_extension": ".py",
   "mimetype": "text/x-python",
   "name": "python",
   "nbconvert_exporter": "python",
   "pygments_lexer": "ipython3",
   "version": "3.10.12"
  }
 },
 "nbformat": 4,
 "nbformat_minor": 5
}
