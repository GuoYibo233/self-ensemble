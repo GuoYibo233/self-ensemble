{
 "cells": [
  {
   "cell_type": "code",
   "execution_count": 42,
   "id": "5ba3963e",
   "metadata": {},
   "outputs": [],
   "source": [
    "import os\n",
    "import pandas as pd\n",
    "from utils import partial_match_scores\n",
    "\n",
    "\n",
    "root = \"../datasets/myriadlama/llama3.2_1b_it\"\n",
    "root = \"../datasets/myriadlama/llama3.2_3b_it\"\n",
    "root = \"../datasets/myriadlama/llama3.1_8b_it\"\n",
    "root = \"../datasets/myriadlama/qwen2.5_3b_it\"\n",
    "root = \"../datasets/myriadlama/qwen2.5_7b_it\"\n",
    "\n",
    "confi_df = pd.read_feather(os.path.join(root, \"confidence.feather\"))\n",
    "confi_df[\"sample_lemmas\"] = confi_df[\"sample_lemmas\"].apply(lambda xs: [list(x) for x in xs])\n",
    "confi_df[\"answer_lemmas\"] = confi_df[\"answer_lemmas\"].apply(lambda xs: [list(x) for x in xs])\n"
   ]
  },
  {
   "cell_type": "code",
   "execution_count": 43,
   "id": "fe9ae44d",
   "metadata": {},
   "outputs": [
    {
     "name": "stderr",
     "output_type": "stream",
     "text": [
      "100%|██████████| 12/12 [00:10<00:00,  1.11it/s]"
     ]
    },
    {
     "name": "stdout",
     "output_type": "stream",
     "text": [
      "Pearson correlation between ensemble and consistency scores:  0.7181726579923353\n",
      "Pearson correlation between ensemble and OR match scores:  0.8592995356762926\n",
      "Pearson correlation between ensemble and diversity scores:  -0.6755791627609598\n",
      "Pearson correlation between ensemble and avg match scores:  0.932651380517281\n",
      "Mean of MOE ratio scores: 0.1323\n",
      "Mean of new ratio scores: 0.0085\n"
     ]
    },
    {
     "name": "stderr",
     "output_type": "stream",
     "text": [
      "\n"
     ]
    }
   ],
   "source": [
    "from tqdm import tqdm\n",
    "from utils import is_matched_str, partial_match\n",
    "\n",
    "droot = os.path.join(root, \"diversity\")\n",
    "\n",
    "ensemble_scores = []\n",
    "consistency_scores = []\n",
    "or_matches_scores = []\n",
    "diversity_scores = []\n",
    "avg_match_scores = []\n",
    "new_ratio_scores = []\n",
    "moe_ratio_scores = []\n",
    "\n",
    "for fn in tqdm(os.listdir(droot)):\n",
    "    if not fn.endswith(\".feather\"):\n",
    "        continue\n",
    "    \n",
    "    if len(fn.split(\",\")) != 2:\n",
    "        continue\n",
    "    \n",
    "    df = pd.read_feather(os.path.join(droot, fn))\n",
    "    df[\"answer_lemmas\"] = df[\"answer_lemmas\"].apply(lambda xs: [list(x) for x in xs])\n",
    "    \n",
    "    # Compute partial match scores\n",
    "    scores = partial_match_scores(df['predict_lemma'].tolist(), df[\"answer_lemmas\"].tolist())\n",
    "\n",
    "    predict_by_set = [[], [], [], []]\n",
    "    for paraphrases, predict_lemma in zip(df[\"paraphrases\"].tolist(), df['predict_lemma'].tolist()):\n",
    "        for idx, paraphrase in enumerate(paraphrases):\n",
    "            predict = confi_df[confi_df[\"paraphrase\"] == paraphrase]['greedy_lemma'].tolist()[0]\n",
    "            predict_by_set[idx].append(predict.tolist())\n",
    "        predict_by_set[-2].append(predict_lemma)\n",
    "        predict_by_set[-1].append(confi_df[confi_df[\"paraphrase\"] == paraphrase]['answer_lemmas'].tolist()[0])\n",
    "    \n",
    "    consistency_matches = []\n",
    "    or_matches = []\n",
    "    and_matches = []\n",
    "    avg_matches = []\n",
    "    ensemble_matches = []\n",
    "\n",
    "    \n",
    "    diversity = []\n",
    "    for predict1, predict2, ensemble_predict, answer_lemmas in zip(*predict_by_set):\n",
    "        match1 = partial_match(predict1, answer_lemmas, birdirectional=False)\n",
    "        match2 = partial_match(predict2, answer_lemmas, birdirectional=False)\n",
    "        or_matches.append(match1 or match2)\n",
    "        and_matches.append(match1 and match2)\n",
    "        avg_matches.append(float(int(match1) + int(match2))/2)\n",
    "        ensemble_matches.append(partial_match(ensemble_predict, answer_lemmas, birdirectional=False))\n",
    "        consistency_matches.append(is_matched_str(predict1, predict2, birdirectional=True))\n",
    "    \n",
    "    moe_cnt = 0\n",
    "    new_cnt = 0\n",
    "    for and_match, or_match, ensemble_match in zip(and_matches, or_matches, ensemble_matches):\n",
    "        if not and_match and or_match and ensemble_match:\n",
    "            moe_cnt += 1\n",
    "        if not and_match and not or_match and ensemble_match:\n",
    "            new_cnt += 1\n",
    "    moe_ratio_scores.append(moe_cnt / len(and_matches))\n",
    "    new_ratio_scores.append(new_cnt / len(and_matches))\n",
    "\n",
    "    # print(f\"----------{fn}------------\")\n",
    "    # print(\"OR match score:\\t \", sum(or_matches) / len(or_matches))\n",
    "    # print(\"AND match score: \", sum(and_matches) / len(and_matches))\n",
    "    # print(\"Jaccard score:\\t \", sum(and_matches) / sum(or_matches))\n",
    "    # print(\"Consistency score:\", sum(consistency_matches) / len(consistency_matches))\n",
    "    # print(\"Ensemble score:\\t \", scores)\n",
    "    ensemble_scores.append(scores)\n",
    "    consistency_scores.append(sum(consistency_matches) / len(consistency_matches))\n",
    "    or_matches_scores.append(sum(or_matches) / len(or_matches))\n",
    "    diversity_scores.append(sum(or_matches) / sum(and_matches))\n",
    "    avg_match_scores.append(sum(avg_matches) / len(avg_matches))\n",
    "\n",
    "print(\"Pearson correlation between ensemble and consistency scores: \", pd.Series(ensemble_scores).corr(pd.Series(consistency_scores)))\n",
    "print(\"Pearson correlation between ensemble and OR match scores: \", pd.Series(ensemble_scores).corr(pd.Series(or_matches_scores)))\n",
    "print(\"Pearson correlation between ensemble and diversity scores: \", pd.Series(ensemble_scores).corr(pd.Series(diversity_scores)))\n",
    "print(\"Pearson correlation between ensemble and avg match scores: \", pd.Series(ensemble_scores).corr(pd.Series(avg_match_scores)))\n",
    "print(f\"Mean of MOE ratio scores: {sum(moe_ratio_scores)/len(moe_ratio_scores):.4f}\")\n",
    "print(f\"Mean of new ratio scores: {sum(new_ratio_scores)/len(new_ratio_scores):.4f}\")"
   ]
  },
  {
   "cell_type": "code",
   "execution_count": null,
   "id": "8b944526",
   "metadata": {},
   "outputs": [],
   "source": []
  },
  {
   "cell_type": "code",
   "execution_count": null,
   "id": "fe04a6b2",
   "metadata": {},
   "outputs": [],
   "source": []
  },
  {
   "cell_type": "code",
   "execution_count": null,
   "id": "e09ff5cc",
   "metadata": {},
   "outputs": [],
   "source": []
  }
 ],
 "metadata": {
  "kernelspec": {
   "display_name": "eval",
   "language": "python",
   "name": "python3"
  },
  "language_info": {
   "codemirror_mode": {
    "name": "ipython",
    "version": 3
   },
   "file_extension": ".py",
   "mimetype": "text/x-python",
   "name": "python",
   "nbconvert_exporter": "python",
   "pygments_lexer": "ipython3",
   "version": "3.10.12"
  }
 },
 "nbformat": 4,
 "nbformat_minor": 5
}
