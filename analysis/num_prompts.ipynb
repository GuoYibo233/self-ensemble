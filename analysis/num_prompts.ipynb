{
 "cells": [
  {
   "cell_type": "code",
   "execution_count": 6,
   "id": "a8e3c99c",
   "metadata": {},
   "outputs": [],
   "source": [
    "import os\n",
    "import pandas as pd\n",
    "from utils import partial_match_scores\n",
    "\n",
    "\n",
    "root = \"../datasets/myriadlama/llama3.2_1b_it\"\n",
    "root = \"../datasets/myriadlama/llama3.2_3b_it\"\n",
    "root = \"../datasets/myriadlama/qwen2.5_3b_it\"\n",
    "# root = \"../datasets/myriadlama/qwen2.5_7b_it\"\n",
    "# root = \"../datasets/myriadlama/llama3.1_8b_it\"\n",
    "\n",
    "confi_df = pd.read_feather(os.path.join(root, \"confidence.feather\"))\n",
    "confi_df[\"sample_lemmas\"] = confi_df[\"sample_lemmas\"].apply(lambda xs: [list(x) for x in xs])\n",
    "confi_df[\"answer_lemmas\"] = confi_df[\"answer_lemmas\"].apply(lambda xs: [list(x) for x in xs])\n"
   ]
  },
  {
   "cell_type": "code",
   "execution_count": 7,
   "id": "4edfd8e2",
   "metadata": {},
   "outputs": [
    {
     "name": "stdout",
     "output_type": "stream",
     "text": [
      "Processing ensemble 2...\n",
      "Number of ensemble scores: 10 Average ensemble score: 0.420\n",
      "Processing ensemble 3...\n",
      "Number of ensemble scores: 10 Average ensemble score: 0.433\n",
      "Processing ensemble 4...\n",
      "Number of ensemble scores: 5 Average ensemble score: 0.443\n"
     ]
    }
   ],
   "source": [
    "from gurobipy import and_\n",
    "from sklearn import ensemble\n",
    "from utils import is_matched_str, partial_match\n",
    "\n",
    "droot = os.path.join(root, \"diversity\")\n",
    "\n",
    "for i in range(2, 5):\n",
    "    ensemble_scores = []\n",
    "    consistency_scores = []\n",
    "    or_matches_scores = []\n",
    "    diversity_scores = []\n",
    "\n",
    "    print(f\"Processing ensemble {i}...\")\n",
    "    for fn in os.listdir(droot):\n",
    "        if not fn.endswith(\".feather\"):\n",
    "            continue\n",
    "\n",
    "        if len(fn.split(\",\")) != i:\n",
    "            continue\n",
    "        df = pd.read_feather(os.path.join(droot, fn))\n",
    "        df[\"answer_lemmas\"] = df[\"answer_lemmas\"].apply(lambda xs: [list(x) for x in xs])\n",
    "        \n",
    "        # Compute partial match scores\n",
    "        scores = partial_match_scores(df['predict_lemma'].tolist(), df[\"answer_lemmas\"].tolist())\n",
    "        ensemble_scores.append(scores)\n",
    "\n",
    "    print(\"Number of ensemble scores:\", len(ensemble_scores), f\"Average ensemble score: {sum(ensemble_scores) / len(ensemble_scores):.3f}\")"
   ]
  },
  {
   "cell_type": "code",
   "execution_count": null,
   "id": "6a9041ac",
   "metadata": {},
   "outputs": [],
   "source": []
  }
 ],
 "metadata": {
  "kernelspec": {
   "display_name": "eval",
   "language": "python",
   "name": "python3"
  },
  "language_info": {
   "codemirror_mode": {
    "name": "ipython",
    "version": 3
   },
   "file_extension": ".py",
   "mimetype": "text/x-python",
   "name": "python",
   "nbconvert_exporter": "python",
   "pygments_lexer": "ipython3",
   "version": "3.10.12"
  }
 },
 "nbformat": 4,
 "nbformat_minor": 5
}
